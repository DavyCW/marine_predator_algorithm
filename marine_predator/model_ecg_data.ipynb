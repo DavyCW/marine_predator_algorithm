{
 "cells": [
  {
   "cell_type": "markdown",
   "id": "6421346a",
   "metadata": {},
   "source": [
    "Multiclass Data"
   ]
  },
  {
   "cell_type": "code",
   "execution_count": 1,
   "id": "96cc5f4f-2613-4aa7-8bde-73088f79b533",
   "metadata": {},
   "outputs": [],
   "source": [
    "import pandas as pd\n",
    "\n",
    "x_train = pd.read_pickle('data pickles/x_train_mc_ecg').values\n",
    "y_train = pd.read_pickle('data pickles/y_train_mc_ecg').values\n",
    "x_test = pd.read_pickle('data pickles/x_test_mc_ecg').values\n",
    "y_test = pd.read_pickle('data pickles/y_test_mc_ecg').values"
   ]
  },
  {
   "cell_type": "markdown",
   "id": "00832f1f",
   "metadata": {},
   "source": [
    "Binary Data"
   ]
  },
  {
   "cell_type": "code",
   "execution_count": 4,
   "id": "9f4b1a4b-c50a-488a-87a9-12e44da7593d",
   "metadata": {
    "editable": true,
    "slideshow": {
     "slide_type": ""
    },
    "tags": []
   },
   "outputs": [],
   "source": [
    "import pandas as pd\n",
    "\n",
    "x_train = pd.read_pickle('data pickles/x_train_bin_ecg').values\n",
    "y_train = pd.read_pickle('data pickles/y_train_bin_ecg').values\n",
    "x_test = pd.read_pickle('data pickles/x_test_bin_ecg').values\n",
    "y_test = pd.read_pickle('data pickles/y_test_bin_ecg').values"
   ]
  },
  {
   "cell_type": "markdown",
   "id": "6bf46da6",
   "metadata": {},
   "source": [
    "Multiclass to Binary Data"
   ]
  },
  {
   "cell_type": "code",
   "execution_count": 1,
   "id": "cce3ff52",
   "metadata": {},
   "outputs": [],
   "source": [
    "import pandas as pd\n",
    "\n",
    "x_train = pd.read_pickle('data pickles/x_train_mc_ecg').values\n",
    "y_train = pd.read_pickle('data pickles/y_train_mctobin_ecg').values\n",
    "x_test = pd.read_pickle('data pickles/x_test_mc_ecg').values\n",
    "y_test = pd.read_pickle('data pickles/y_test_mctobin_ecg').values"
   ]
  },
  {
   "cell_type": "code",
   "execution_count": 2,
   "id": "ebfb4ed1-a62e-4bb6-84fc-3b05973ae4bd",
   "metadata": {},
   "outputs": [
    {
     "name": "stdout",
     "output_type": "stream",
     "text": [
      "Extra Trees Loaded\n",
      "Random Forest Loaded\n"
     ]
    }
   ],
   "source": [
    "from sklearn.ensemble import RandomForestClassifier, ExtraTreesClassifier\n",
    "\n",
    "ext = ExtraTreesClassifier(random_state=0)\n",
    "print(\"Extra Trees Loaded\")\n",
    "rfc = RandomForestClassifier(random_state=0)\n",
    "print(\"Random Forest Loaded\")"
   ]
  },
  {
   "cell_type": "code",
   "execution_count": 3,
   "id": "60fd1d7f-d149-41d9-92c4-4246016c0e18",
   "metadata": {},
   "outputs": [
    {
     "name": "stdout",
     "output_type": "stream",
     "text": [
      "Linear Discriminant Analysis Loaded\n",
      "Quadratic Discriminant Analysis Loaded\n"
     ]
    }
   ],
   "source": [
    "from sklearn.discriminant_analysis import LinearDiscriminantAnalysis, QuadraticDiscriminantAnalysis\n",
    "\n",
    "lda = LinearDiscriminantAnalysis()\n",
    "print(\"Linear Discriminant Analysis Loaded\")\n",
    "qda = QuadraticDiscriminantAnalysis()\n",
    "print(\"Quadratic Discriminant Analysis Loaded\")"
   ]
  },
  {
   "cell_type": "code",
   "execution_count": 4,
   "id": "0fb71396-eb98-4e9b-a0c9-603898684912",
   "metadata": {},
   "outputs": [
    {
     "name": "stdout",
     "output_type": "stream",
     "text": [
      "Multi-Linear Perceptron Loaded\n"
     ]
    }
   ],
   "source": [
    "from sklearn.neural_network import MLPClassifier\n",
    "\n",
    "mlp = MLPClassifier(random_state=0, max_iter=300)\n",
    "print(\"Multi-Linear Perceptron Loaded\")"
   ]
  },
  {
   "cell_type": "code",
   "execution_count": 5,
   "id": "182ce4f9-b062-4383-a3b8-317c4123a2ad",
   "metadata": {},
   "outputs": [
    {
     "name": "stdout",
     "output_type": "stream",
     "text": [
      "Support Vector Classifier Loaded\n"
     ]
    }
   ],
   "source": [
    "from sklearn.pipeline import make_pipeline\n",
    "from sklearn.preprocessing import StandardScaler\n",
    "from sklearn.svm import SVC\n",
    "\n",
    "svc = make_pipeline(StandardScaler(), SVC(gamma='auto', probability=True))\n",
    "print(\"Support Vector Classifier Loaded\")"
   ]
  },
  {
   "cell_type": "code",
   "execution_count": 6,
   "id": "781f07b0-1479-4345-9c0a-28a50f9b37c0",
   "metadata": {},
   "outputs": [
    {
     "name": "stdout",
     "output_type": "stream",
     "text": [
      "First Nearest Neighbor Loaded\n"
     ]
    }
   ],
   "source": [
    "from sklearn.neighbors import KNeighborsClassifier\n",
    "\n",
    "k01 = KNeighborsClassifier(n_neighbors=1)\n",
    "print(\"First Nearest Neighbor Loaded\")"
   ]
  },
  {
   "cell_type": "code",
   "execution_count": 7,
   "id": "d31d579b-aadc-4ff5-b0fe-27d92db6b13f",
   "metadata": {},
   "outputs": [
    {
     "name": "stdout",
     "output_type": "stream",
     "text": [
      "Liblinear Logistic Regression Loaded\n",
      "SAG Logistic Regression Loaded\n"
     ]
    }
   ],
   "source": [
    "from sklearn.linear_model import LogisticRegression\n",
    "\n",
    "ll1 = LogisticRegression(random_state=0, solver='liblinear', penalty='l1')\n",
    "print(\"Liblinear Logistic Regression Loaded\")\n",
    "sg2 = LogisticRegression(random_state=0, solver='sag')\n",
    "print(\"SAG Logistic Regression Loaded\")"
   ]
  },
  {
   "cell_type": "code",
   "execution_count": 3,
   "id": "93fbe06f-b986-40a4-976a-b2d39caa3693",
   "metadata": {},
   "outputs": [
    {
     "name": "stdout",
     "output_type": "stream",
     "text": [
      "svc has been fitted.\n",
      "svc has been pickled.\n"
     ]
    }
   ],
   "source": [
    "import pickling_models\n",
    "\n",
    "models = [ext, rfc, lda, qda, mlp, svc, k01, sg2]\n",
    "names = ['extra', \n",
    "         'rf', \n",
    "         'lda', \n",
    "         'qda', \n",
    "         'mlp', \n",
    "         'svc', \n",
    "         '1nn', \n",
    "         'sag_l2_logreg']\n",
    "models = [svc]\n",
    "names = ['svc']\n",
    "\n",
    "pickling_models.fitckling(models, x_train, y_train, 'multiclass raw models/', names)"
   ]
  },
  {
   "cell_type": "code",
   "execution_count": 5,
   "id": "95a3b41b-7677-4a74-8d91-cab1b544cce5",
   "metadata": {},
   "outputs": [
    {
     "name": "stdout",
     "output_type": "stream",
     "text": [
      "svc has been fitted.\n",
      "svc has been pickled.\n"
     ]
    }
   ],
   "source": [
    "import pickling_models\n",
    "\n",
    "\n",
    "models = [ext, rfc, lda, qda, mlp, svc, k01, ll1]\n",
    "names = ['extra', \n",
    "         'rf', \n",
    "         'lda', \n",
    "         'qda', \n",
    "         'mlp', \n",
    "         'svc', \n",
    "         '1nn', \n",
    "         'liblin_l1_logreg']\n",
    "models = [svc]\n",
    "names = ['svc']\n",
    "\n",
    "pickling_models.fitckling(models, x_train, y_train, 'binary raw models/', names)"
   ]
  },
  {
   "cell_type": "code",
   "execution_count": 8,
   "id": "98454779-29b2-44ec-bfb4-378efd432272",
   "metadata": {},
   "outputs": [
    {
     "name": "stdout",
     "output_type": "stream",
     "text": [
      "extra has been fitted.\n",
      "extra has been pickled.\n",
      "rf has been fitted.\n",
      "rf has been pickled.\n",
      "lda has been fitted.\n",
      "lda has been pickled.\n",
      "qda has been fitted.\n",
      "qda has been pickled.\n",
      "mlp has been fitted.\n",
      "mlp has been pickled.\n",
      "svc has been fitted.\n",
      "svc has been pickled.\n",
      "1nn has been fitted.\n",
      "1nn has been pickled.\n",
      "liblin_l1_logreg has been fitted.\n",
      "liblin_l1_logreg has been pickled.\n"
     ]
    }
   ],
   "source": [
    "import pickling_models\n",
    "\n",
    "\n",
    "models = [ext, rfc, lda, qda, mlp, svc, k01, ll1]\n",
    "names = ['extra', \n",
    "         'rf', \n",
    "         'lda', \n",
    "         'qda', \n",
    "         'mlp', \n",
    "         'svc', \n",
    "         '1nn', \n",
    "         'liblin_l1_logreg']\n",
    "\n",
    "pickling_models.fitckling(models, x_train, y_train, 'multiclass to binary raw models/', names)"
   ]
  }
 ],
 "metadata": {
  "kernelspec": {
   "display_name": "Python 3 (ipykernel)",
   "language": "python",
   "name": "python3"
  },
  "language_info": {
   "codemirror_mode": {
    "name": "ipython",
    "version": 3
   },
   "file_extension": ".py",
   "mimetype": "text/x-python",
   "name": "python",
   "nbconvert_exporter": "python",
   "pygments_lexer": "ipython3",
   "version": "3.9.9"
  }
 },
 "nbformat": 4,
 "nbformat_minor": 5
}
